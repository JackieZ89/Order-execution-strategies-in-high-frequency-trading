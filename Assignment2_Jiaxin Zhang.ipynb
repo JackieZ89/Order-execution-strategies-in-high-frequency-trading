{
 "cells": [
  {
   "cell_type": "code",
   "execution_count": 1,
   "metadata": {},
   "outputs": [],
   "source": [
    "import pandas as pd\n",
    "import numpy as np\n",
    "import math\n",
    "import matplotlib.pyplot as plt\n",
    "\n",
    "#Process data\n",
    "OrderSet = pd.read_csv('OrderSet.csv')\n",
    "PriceSet = pd.read_excel('SecondPriceSet.xlsx')\n",
    "#generating the mid price of b/o spread for each second\n",
    "PriceSet['Mid'] = (PriceSet['Bid']+PriceSet['Ask'])/2\n",
    "PriceSet['Spread'] = PriceSet['Ask']- PriceSet['Bid']\n",
    "#change the date and time in Orderset to the same format\n",
    "OrderSet['Time'] = pd.to_datetime(OrderSet['Time'])"
   ]
  },
  {
   "cell_type": "markdown",
   "metadata": {},
   "source": [
    "Market Taking (MT) -- for each order, you will aggress the market immediately and therefore incur the (half) Bid/Offer spread"
   ]
  },
  {
   "cell_type": "code",
   "execution_count": 2,
   "metadata": {},
   "outputs": [
    {
     "data": {
      "text/plain": [
       "-60.050000000343424"
      ]
     },
     "execution_count": 2,
     "metadata": {},
     "output_type": "execute_result"
    }
   ],
   "source": [
    "pnl_MT = []\n",
    "j = 0\n",
    "for i in range(len(OrderSet)):\n",
    "    while(j < len(PriceSet) and OrderSet['Time'][i]!= PriceSet['Time'][j]):\n",
    "        j +=1\n",
    "    pnl_MT.append(- PriceSet['Spread'][j]/2)\n",
    "    \n",
    "pnl_MT = [x*10000 for x in pnl_MT]\n",
    "\n",
    "sum(pnl_MT)"
   ]
  },
  {
   "cell_type": "code",
   "execution_count": 18,
   "metadata": {},
   "outputs": [
    {
     "data": {
      "text/plain": [
       "[<matplotlib.lines.Line2D at 0x11fdbc080>]"
      ]
     },
     "execution_count": 18,
     "metadata": {},
     "output_type": "execute_result"
    },
    {
     "data": {
      "image/png": "[encoded data removed]",
      "text/plain": [
       "<Figure size 432x288 with 1 Axes>"
      ]
     },
     "metadata": {
      "needs_background": "light"
     },
     "output_type": "display_data"
    }
   ],
   "source": [
    "plt.plot(list(np.cumsum(pnl_MT)))"
   ]
  },
  {
   "cell_type": "markdown",
   "metadata": {},
   "source": [
    "Opportunistic Market Making (OMM)\n",
    "--for each order, you will rest it within the Bid/Offer spread, for a given amount of time, waiting for its (possible) opportunistic execution\n",
    "First Way: OMMSide---joining “your side” of the market"
   ]
  },
  {
   "cell_type": "code",
   "execution_count": 3,
   "metadata": {},
   "outputs": [],
   "source": [
    "#a max Stop Loss (SL)\n",
    "SL = 0.0002\n",
    "#a max Time to Execution (TTE)\n",
    "TTE = 10\n",
    "\n",
    "pnl_OMMSide = []\n",
    "j = 0\n",
    "\n",
    "#for analysis\n",
    "exe_time = []\n",
    "SL_trig = []\n",
    "TTE_trig = []\n",
    "\n",
    "for i in range(len(OrderSet)):\n",
    "    while(j < len(PriceSet)-1 and OrderSet['Time'][i]!= PriceSet['Time'][j]):\n",
    "        j +=1\n",
    "    #j is the index at order time\n",
    "    #a buy order, set price at bid side.\n",
    "    time_limit = j + TTE\n",
    "    x = j #use a new iterator,represent the time after an order is made\n",
    "    \n",
    "    if OrderSet['Side'][i] == 'B':\n",
    "        bid_price = PriceSet['Bid'][x]\n",
    "        #if the ask price equals or lower than my bid price or the time limit is reached, execute immediately using ask price.\n",
    "        while x < time_limit and PriceSet['Ask'][x] > bid_price and (PriceSet['Ask'][x] - PriceSet['Mid'][j]) < SL :\n",
    "            x += 1\n",
    "        #if ask <= my bid, execute at my bid price, else execute at ask price\n",
    "        if PriceSet['Ask'][x] <= bid_price:\n",
    "            pnl_OMMSide.append(PriceSet['Mid'][j]-bid_price)\n",
    "        else:\n",
    "            pnl_OMMSide.append(PriceSet['Mid'][j]-PriceSet['Ask'][x])\n",
    "            \n",
    "        exe_time.append(x-j)\n",
    "        if (PriceSet['Ask'][x] - PriceSet['Mid'][j]) >= SL:\n",
    "            SL_trig.append('SL')\n",
    "        else:\n",
    "            SL_trig.append('/n')\n",
    "        if (x >= time_limit):\n",
    "            TTE_trig.append('TTE')\n",
    "        else:\n",
    "            TTE_trig.append('/n')\n",
    "            \n",
    "    if OrderSet['Side'][i] == 'S':\n",
    "        ask_price = PriceSet['Ask'][x]\n",
    "        #if the bid price is equal or higher than my ask price or the time limit is reached, execute immediately using bid price.\n",
    "        while x < time_limit and PriceSet['Bid'][x] < ask_price and (PriceSet['Mid'][j] - PriceSet['Bid'][x]) < SL:\n",
    "            x +=1\n",
    "            \n",
    "        if PriceSet['Bid'][x]>=ask_price:\n",
    "            pnl_OMMSide.append((ask_price - PriceSet['Mid'][j]))\n",
    "        else:\n",
    "            pnl_OMMSide.append((PriceSet['Bid'][x] - PriceSet['Mid'][j]))\n",
    "            \n",
    "        exe_time.append(x-j)\n",
    "        if (PriceSet['Mid'][j] - PriceSet['Bid'][x]) >= SL:\n",
    "            SL_trig.append('SL')\n",
    "        else:\n",
    "            SL_trig.append('/n')\n",
    "            \n",
    "        if (x >= time_limit):\n",
    "            TTE_trig.append('TTE')\n",
    "        else:\n",
    "            TTE_trig.append('/n')\n",
    "\n",
    "pnl_OMMSide = [x*10000 for x in pnl_OMMSide]\n",
    "OMMSide = pd.DataFrame(pnl_OMMSide, columns = ['PnL'])\n",
    "OMMSide['Execution time'] = exe_time\n",
    "OMMSide['SL'] = SL_trig\n",
    "OMMSide['TTE'] = TTE_trig"
   ]
  },
  {
   "cell_type": "code",
   "execution_count": 4,
   "metadata": {},
   "outputs": [],
   "source": [
    "OMMSide.to_csv('OMMSide.csv')"
   ]
  },
  {
   "cell_type": "code",
   "execution_count": 5,
   "metadata": {
    "scrolled": true
   },
   "outputs": [
    {
     "data": {
      "text/plain": [
       "[<matplotlib.lines.Line2D at 0x11e86a710>]"
      ]
     },
     "execution_count": 5,
     "metadata": {},
     "output_type": "execute_result"
    },
    {
     "data": {
      "image/png": "[encoded data removed]",
      "text/plain": [
       "<Figure size 432x288 with 1 Axes>"
      ]
     },
     "metadata": {
      "needs_background": "light"
     },
     "output_type": "display_data"
    }
   ],
   "source": [
    "plt.plot(list(np.cumsum(pnl_OMMSide)))"
   ]
  },
  {
   "cell_type": "markdown",
   "metadata": {},
   "source": [
    "OMMMid---resting your order at mid-market "
   ]
  },
  {
   "cell_type": "code",
   "execution_count": 6,
   "metadata": {},
   "outputs": [],
   "source": [
    "#a max Stop Loss (SL)\n",
    "SL = 0.0002\n",
    "#a max Time to Execution (TTE)\n",
    "TTE = 10\n",
    "\n",
    "pnl_OMMMid = []\n",
    "j = 0\n",
    "\n",
    "#for analysis\n",
    "exe_time = []\n",
    "SL_trig = []\n",
    "TTE_trig = []\n",
    "\n",
    "for i in range(len(OrderSet)):\n",
    "    while(j < len(PriceSet)-1 and OrderSet['Time'][i]!= PriceSet['Time'][j]):\n",
    "        j +=1\n",
    "    #j is the index at order time\n",
    "    #a buy order, set price at bid side.\n",
    "    time_limit = j + TTE\n",
    "    x = j #use a new iterator,represent the time after an order is made\n",
    "    \n",
    "    if OrderSet['Side'][i] == 'B':\n",
    "        bid_price = PriceSet['Mid'][x]\n",
    "        #if the ask price equals or lower than my bid price or the time limit is reached, execute immediately using ask price.\n",
    "        while x < time_limit and PriceSet['Ask'][x] > bid_price and (PriceSet['Ask'][x] - PriceSet['Mid'][j]) < SL :\n",
    "            x += 1\n",
    "        #if ask <= my bid, execute at my bid price, else execute at ask price\n",
    "        if PriceSet['Ask'][x] <= bid_price:\n",
    "            pnl_OMMMid.append(PriceSet['Mid'][j]-bid_price)\n",
    "        else:\n",
    "            pnl_OMMMid.append(PriceSet['Mid'][j]-PriceSet['Ask'][x])\n",
    "            \n",
    "        exe_time.append(x-j)\n",
    "        if (PriceSet['Ask'][x] - PriceSet['Mid'][j]) >= SL:\n",
    "            SL_trig.append('SL')\n",
    "        else:\n",
    "            SL_trig.append('/n')\n",
    "        if (x >= time_limit):\n",
    "            TTE_trig.append('TTE')\n",
    "        else:\n",
    "            TTE_trig.append('/n')\n",
    "            \n",
    "    if OrderSet['Side'][i] == 'S':\n",
    "        ask_price = PriceSet['Mid'][x]\n",
    "        #if the bid price is equal or higher than my ask price or the time limit is reached, execute immediately using bid price.\n",
    "        while x < time_limit and PriceSet['Bid'][x] < ask_price and (PriceSet['Mid'][j] - PriceSet['Bid'][x]) < SL:\n",
    "            x +=1\n",
    "            \n",
    "        if PriceSet['Bid'][x]>=ask_price:\n",
    "            pnl_OMMMid.append((ask_price - PriceSet['Mid'][j]))\n",
    "        else:\n",
    "            pnl_OMMMid.append((PriceSet['Bid'][x] - PriceSet['Mid'][j]))\n",
    "            \n",
    "        exe_time.append(x-j)\n",
    "        if (PriceSet['Mid'][j] - PriceSet['Bid'][x]) >= SL:\n",
    "            SL_trig.append('SL')\n",
    "        else:\n",
    "            SL_trig.append('/n')\n",
    "            \n",
    "        if (x >= time_limit):\n",
    "            TTE_trig.append('TTE')\n",
    "        else:\n",
    "            TTE_trig.append('/n')\n",
    "            \n",
    "pnl_OMMMid = [x*10000 for x in pnl_OMMMid] \n",
    "OMMMid = pd.DataFrame(pnl_OMMMid, columns = ['PnL'])\n",
    "OMMMid['Execution time'] = exe_time\n",
    "OMMMid['SL'] = SL_trig\n",
    "OMMMid['TTE'] = TTE_trig\n",
    "\n"
   ]
  },
  {
   "cell_type": "code",
   "execution_count": 7,
   "metadata": {},
   "outputs": [
    {
     "data": {
      "text/plain": [
       "[<matplotlib.lines.Line2D at 0x120105550>]"
      ]
     },
     "execution_count": 7,
     "metadata": {},
     "output_type": "execute_result"
    },
    {
     "data": {
      "image/png": "[encoded data removed]",
      "text/plain": [
       "<Figure size 432x288 with 1 Axes>"
      ]
     },
     "metadata": {
      "needs_background": "light"
     },
     "output_type": "display_data"
    }
   ],
   "source": [
    "plt.plot(list(np.cumsum(pnl_OMMMid)))"
   ]
  },
  {
   "cell_type": "code",
   "execution_count": 8,
   "metadata": {},
   "outputs": [],
   "source": [
    "OMMMid.to_csv('OMMMid.csv')"
   ]
  },
  {
   "cell_type": "code",
   "execution_count": 9,
   "metadata": {},
   "outputs": [
    {
     "name": "stdout",
     "output_type": "stream",
     "text": [
      "-60.050000000343424\n",
      "-88.04999999985074\n",
      "-94.49999999984638\n"
     ]
    }
   ],
   "source": [
    "#total PnL\n",
    "print(sum(pnl_MT))\n",
    "print(sum(pnl_OMMSide))\n",
    "print(sum(pnl_OMMMid))"
   ]
  },
  {
   "cell_type": "code",
   "execution_count": 10,
   "metadata": {},
   "outputs": [
    {
     "name": "stdout",
     "output_type": "stream",
     "text": [
      "-0.6672222222260383\n",
      "-0.9783333333316749\n",
      "-1.0499999999982932\n"
     ]
    }
   ],
   "source": [
    "#avg PnL\n",
    "print(np.mean(pnl_MT))\n",
    "print(np.mean(pnl_OMMSide))\n",
    "print(np.mean(pnl_OMMMid))"
   ]
  },
  {
   "cell_type": "code",
   "execution_count": 11,
   "metadata": {},
   "outputs": [
    {
     "name": "stdout",
     "output_type": "stream",
     "text": [
      "-0.20000000000020002\n",
      "-0.5749999999749011\n",
      "-0.27499999997515623\n"
     ]
    }
   ],
   "source": [
    "print(np.median(pnl_MT))\n",
    "print(np.median(pnl_OMMSide))\n",
    "print(np.median(pnl_OMMMid))"
   ]
  },
  {
   "cell_type": "code",
   "execution_count": 12,
   "metadata": {},
   "outputs": [
    {
     "name": "stdout",
     "output_type": "stream",
     "text": [
      "4.622222222222222\n",
      "4.166666666666667\n"
     ]
    }
   ],
   "source": [
    "print(np.mean(OMMSide['Execution time']))\n",
    "print(np.mean(OMMMid['Execution time']))"
   ]
  },
  {
   "cell_type": "code",
   "execution_count": 13,
   "metadata": {},
   "outputs": [
    {
     "name": "stdout",
     "output_type": "stream",
     "text": [
      "3.0\n",
      "3.0\n"
     ]
    }
   ],
   "source": [
    "print(np.median(OMMSide['Execution time']))\n",
    "print(np.median(OMMMid['Execution time']))"
   ]
  },
  {
   "cell_type": "code",
   "execution_count": 14,
   "metadata": {},
   "outputs": [
    {
     "name": "stdout",
     "output_type": "stream",
     "text": [
      "27\n",
      "27\n"
     ]
    }
   ],
   "source": [
    "sl_OMMSide = 0\n",
    "sl_OMMMid = 0\n",
    "for i in range(len(OMMSide)-1):\n",
    "    if OMMSide['SL'][i] == 'SL':\n",
    "        sl_OMMSide +=1\n",
    "    if OMMMid['SL'][i] =='SL':\n",
    "        sl_OMMMid +=1\n",
    "        \n",
    "print(sl_OMMSide)\n",
    "print(sl_OMMMid)"
   ]
  },
  {
   "cell_type": "code",
   "execution_count": 15,
   "metadata": {},
   "outputs": [
    {
     "name": "stdout",
     "output_type": "stream",
     "text": [
      "23\n",
      "19\n"
     ]
    }
   ],
   "source": [
    "tte_OMMSide = 0\n",
    "tte_OMMMid = 0\n",
    "for i in range(len(OMMSide)-1):\n",
    "    if OMMSide['TTE'][i] == 'TTE':\n",
    "        tte_OMMSide +=1\n",
    "    if OMMMid['TTE'][i] =='TTE':\n",
    "        tte_OMMMid +=1\n",
    "        \n",
    "print(tte_OMMSide)\n",
    "print(tte_OMMMid)"
   ]
  },
  {
   "cell_type": "code",
   "execution_count": 109,
   "metadata": {},
   "outputs": [],
   "source": [
    "def OMMSide(SL,TTE):\n",
    "    pnl_OMMSide = []\n",
    "    j = 0\n",
    "\n",
    "    for i in range(len(OrderSet)):\n",
    "        while(j < len(PriceSet)-1 and OrderSet['Time'][i]!= PriceSet['Time'][j]):\n",
    "            j +=1\n",
    "        #j is the index at order time\n",
    "        #a buy order, set price at bid side.\n",
    "        time_limit = j + TTE\n",
    "        x = j #use a new iterator,represent the time after an order is made\n",
    "\n",
    "        if OrderSet['Side'][i] == 'B':\n",
    "            bid_price = PriceSet['Bid'][x]\n",
    "            #if the ask price equals or lower than my bid price or the time limit is reached, execute immediately using ask price.\n",
    "            while x < time_limit and PriceSet['Ask'][x] > bid_price and (PriceSet['Ask'][x] - PriceSet['Mid'][j]) < SL :\n",
    "                x += 1\n",
    "            #if ask <= my bid, execute at my bid price, else execute at ask price\n",
    "            if PriceSet['Ask'][x] <= bid_price:\n",
    "                pnl_OMMSide.append(PriceSet['Mid'][j]-bid_price)\n",
    "            else:\n",
    "                pnl_OMMSide.append(PriceSet['Mid'][j]-PriceSet['Ask'][x])\n",
    "\n",
    "\n",
    "        if OrderSet['Side'][i] == 'S':\n",
    "            ask_price = PriceSet['Ask'][x]\n",
    "            #if the bid price is equal or higher than my ask price or the time limit is reached, execute immediately using bid price.\n",
    "            while x < time_limit and PriceSet['Bid'][x] < ask_price and (PriceSet['Mid'][j] - PriceSet['Bid'][x]) < SL:\n",
    "                x +=1\n",
    "\n",
    "            if PriceSet['Bid'][x]>=ask_price:\n",
    "                pnl_OMMSide.append((ask_price - PriceSet['Mid'][j]))\n",
    "            else:\n",
    "                pnl_OMMSide.append((PriceSet['Bid'][x] - PriceSet['Mid'][j]))\n",
    "                \n",
    "    pnl_OMMSide = [x*10000 for x in pnl_OMMSide] \n",
    "\n",
    "    #return sum(pnl_OMMSide)\n",
    "    return np.median(pnl_OMMSide)\n",
    "\n",
    "def OMMMid(SL,TTE):\n",
    "    \n",
    "    pnl_OMMMid = []\n",
    "    j = 0\n",
    "\n",
    "    for i in range(len(OrderSet)):\n",
    "        while(j < len(PriceSet)-1 and OrderSet['Time'][i]!= PriceSet['Time'][j]):\n",
    "            j +=1\n",
    "        #j is the index at order time\n",
    "        #a buy order, set price at bid side.\n",
    "        time_limit = j + TTE\n",
    "        x = j #use a new iterator,represent the time after an order is made\n",
    "\n",
    "        if OrderSet['Side'][i] == 'B':\n",
    "            bid_price = PriceSet['Mid'][x]\n",
    "            #if the ask price equals or lower than my bid price or the time limit is reached, execute immediately using ask price.\n",
    "            while x < time_limit and PriceSet['Ask'][x] > bid_price and (PriceSet['Ask'][x] - PriceSet['Mid'][j]) < SL :\n",
    "                x += 1\n",
    "            #if ask <= my bid, execute at my bid price, else execute at ask price\n",
    "            if PriceSet['Ask'][x] <= bid_price:\n",
    "                pnl_OMMMid.append(PriceSet['Mid'][j]-bid_price)\n",
    "            else:\n",
    "                pnl_OMMMid.append(PriceSet['Mid'][j]-PriceSet['Ask'][x])\n",
    "\n",
    "        if OrderSet['Side'][i] == 'S':\n",
    "            ask_price = PriceSet['Mid'][x]\n",
    "            #if the bid price is equal or higher than my ask price or the time limit is reached, execute immediately using bid price.\n",
    "            while x < time_limit and PriceSet['Bid'][x] < ask_price and (PriceSet['Mid'][j] - PriceSet['Bid'][x]) < SL:\n",
    "                x +=1\n",
    "\n",
    "            if PriceSet['Bid'][x]>=ask_price:\n",
    "                pnl_OMMMid.append((ask_price - PriceSet['Mid'][j]))\n",
    "            else:\n",
    "                pnl_OMMMid.append((PriceSet['Bid'][x] - PriceSet['Mid'][j]))\n",
    "                \n",
    "    pnl_OMMMid = [x*10000 for x in pnl_OMMMid] \n",
    "\n",
    "    #return sum(pnl_OMMMid)\n",
    "    return np.median(pnl_OMMMid)\n"
   ]
  },
  {
   "cell_type": "code",
   "execution_count": 107,
   "metadata": {},
   "outputs": [
    {
     "data": {
      "text/plain": [
       "[5, 6, 7, 8, 9, 10, 11, 12, 13, 14, 15]"
      ]
     },
     "execution_count": 107,
     "metadata": {},
     "output_type": "execute_result"
    }
   ],
   "source": [
    "sl_list=[]\n",
    "for i in range(11):\n",
    "    sl_list.append(0+i/20000)\n",
    "    \n",
    "tte_list = []\n",
    "for i in range(11):\n",
    "    tte_list.append(5+i)\n",
    "tte_list"
   ]
  },
  {
   "cell_type": "code",
   "execution_count": 124,
   "metadata": {},
   "outputs": [
    {
     "data": {
      "text/plain": [
       "[[-0.20000000000131024,\n",
       "  -0.20000000000131024,\n",
       "  -0.20000000000131024,\n",
       "  -0.20000000000131024,\n",
       "  -0.20000000000131024,\n",
       "  -0.20000000000131024,\n",
       "  -0.20000000000131024,\n",
       "  -0.20000000000131024,\n",
       "  -0.20000000000131024,\n",
       "  -0.20000000000131024,\n",
       "  -0.20000000000131024],\n",
       " [-0.5999999999739547,\n",
       "  -0.5999999999983796,\n",
       "  -0.8000000000008001,\n",
       "  -0.8249999999998536,\n",
       "  -0.8500000000000174,\n",
       "  -0.8500000000000174,\n",
       "  -0.8500000000011276,\n",
       "  -0.8500000000011276,\n",
       "  -0.8500000000011276,\n",
       "  -0.8500000000011276,\n",
       "  -0.8500000000011276],\n",
       " [-0.4249999999261789,\n",
       "  -0.47499999997646647,\n",
       "  -0.6749999999755563,\n",
       "  -1.0000000000021103,\n",
       "  -1.0499999999991072,\n",
       "  -1.0500000000002174,\n",
       "  -1.0500000000002174,\n",
       "  -1.0500000000002174,\n",
       "  -1.0500000000002174,\n",
       "  -1.0500000000002174,\n",
       "  -1.0500000000002174],\n",
       " [-0.3249999999754838,\n",
       "  -0.37499999997581135,\n",
       "  -0.4999999999744098,\n",
       "  -0.5000000000010552,\n",
       "  -0.7500000000004725,\n",
       "  -1.0499999999991072,\n",
       "  -1.0749999999759563,\n",
       "  -1.074999999999271,\n",
       "  -1.0499999999991072,\n",
       "  -1.0500000000002174,\n",
       "  -1.0750000000003812],\n",
       " [-0.3249999999754838,\n",
       "  -0.37499999997581135,\n",
       "  -0.3499999999245773,\n",
       "  -0.37499999997581135,\n",
       "  -0.4249999999750287,\n",
       "  -0.5749999999749011,\n",
       "  -0.8750000000001812,\n",
       "  -0.47499999999978115,\n",
       "  -0.6000000000006,\n",
       "  -0.6499999999998174,\n",
       "  -0.5750000000004363],\n",
       " [-0.3249999999754838,\n",
       "  -0.37499999997581135,\n",
       "  -0.3499999999245773,\n",
       "  -0.37499999997581135,\n",
       "  -0.4249999999750287,\n",
       "  -0.5749999999749011,\n",
       "  -0.8750000000001812,\n",
       "  -0.47499999999978115,\n",
       "  -0.6000000000006,\n",
       "  -0.6499999999998174,\n",
       "  -0.5750000000004363],\n",
       " [-0.3249999999754838,\n",
       "  -0.37499999997581135,\n",
       "  -0.3499999999245773,\n",
       "  -0.37499999997581135,\n",
       "  -0.4249999999750287,\n",
       "  -0.5749999999749011,\n",
       "  -0.8750000000001812,\n",
       "  -0.47499999999978115,\n",
       "  -0.6000000000006,\n",
       "  -0.6499999999998174,\n",
       "  -0.5750000000004363],\n",
       " [-0.3249999999754838,\n",
       "  -0.37499999997581135,\n",
       "  -0.274999999974046,\n",
       "  -0.37499999997581135,\n",
       "  -0.29999999994867466,\n",
       "  -0.29999999997532,\n",
       "  -0.1250000000008189,\n",
       "  -0.27500000000069136,\n",
       "  -0.3249999999999087,\n",
       "  -0.17500000000003624,\n",
       "  -0.12499999999970868],\n",
       " [-0.3249999999754838,\n",
       "  -0.37499999997581135,\n",
       "  -0.274999999974046,\n",
       "  -0.37499999997581135,\n",
       "  -0.29999999994867466,\n",
       "  -0.29999999997532,\n",
       "  -0.1250000000008189,\n",
       "  -0.27500000000069136,\n",
       "  -0.3249999999999087,\n",
       "  -0.17500000000003624,\n",
       "  -0.12499999999970868],\n",
       " [-0.3249999999754838,\n",
       "  -0.37499999997581135,\n",
       "  -0.274999999974046,\n",
       "  -0.37499999997581135,\n",
       "  -0.29999999994867466,\n",
       "  -0.29999999997532,\n",
       "  -0.1250000000008189,\n",
       "  -0.27500000000069136,\n",
       "  -0.3249999999999087,\n",
       "  -0.17500000000003624,\n",
       "  -0.12499999999970868],\n",
       " [-0.3249999999754838,\n",
       "  -0.37499999997581135,\n",
       "  -0.274999999974046,\n",
       "  -0.37499999997581135,\n",
       "  -0.29999999994867466,\n",
       "  -0.29999999997532,\n",
       "  -0.1250000000008189,\n",
       "  -0.27500000000069136,\n",
       "  -0.3249999999999087,\n",
       "  -0.17500000000003624,\n",
       "  -0.12499999999970868]]"
      ]
     },
     "execution_count": 124,
     "metadata": {},
     "output_type": "execute_result"
    }
   ],
   "source": [
    "table = []\n",
    "for i in range(11):\n",
    "    pnl_list = []\n",
    "    for j in range(11):\n",
    "        pnl = OMMSide(sl_list[i],tte_list[j])\n",
    "        pnl_list.append(pnl)\n",
    "    table.append(pnl_list)\n",
    "table"
   ]
  },
  {
   "cell_type": "code",
   "execution_count": 125,
   "metadata": {},
   "outputs": [
    {
     "data": {
      "text/plain": [
       "[[-0.20000000000131024,\n",
       "  -0.20000000000131024,\n",
       "  -0.20000000000131024,\n",
       "  -0.20000000000131024,\n",
       "  -0.20000000000131024,\n",
       "  -0.20000000000131024,\n",
       "  -0.20000000000131024,\n",
       "  -0.20000000000131024,\n",
       "  -0.20000000000131024,\n",
       "  -0.20000000000131024,\n",
       "  -0.20000000000131024],\n",
       " [-0.5999999999739547,\n",
       "  -0.5999999999983796,\n",
       "  -0.8000000000008001,\n",
       "  -0.8249999999998536,\n",
       "  -0.8500000000000174,\n",
       "  -0.8500000000000174,\n",
       "  -0.8500000000011276,\n",
       "  -0.8500000000011276,\n",
       "  -0.8500000000011276,\n",
       "  -0.8500000000011276,\n",
       "  -0.8500000000011276],\n",
       " [-0.4249999999261789,\n",
       "  -0.47499999997646647,\n",
       "  -0.6749999999755563,\n",
       "  -1.0000000000021103,\n",
       "  -1.0499999999991072,\n",
       "  -1.0500000000002174,\n",
       "  -1.0500000000002174,\n",
       "  -1.0500000000002174,\n",
       "  -1.0500000000002174,\n",
       "  -1.0500000000002174,\n",
       "  -1.0500000000002174],\n",
       " [-0.3249999999754838,\n",
       "  -0.37499999997581135,\n",
       "  -0.4999999999744098,\n",
       "  -0.5000000000010552,\n",
       "  -0.7500000000004725,\n",
       "  -1.0499999999991072,\n",
       "  -1.0749999999759563,\n",
       "  -1.074999999999271,\n",
       "  -1.0499999999991072,\n",
       "  -1.0500000000002174,\n",
       "  -1.0750000000003812],\n",
       " [-0.3249999999754838,\n",
       "  -0.37499999997581135,\n",
       "  -0.3499999999245773,\n",
       "  -0.37499999997581135,\n",
       "  -0.4249999999750287,\n",
       "  -0.5749999999749011,\n",
       "  -0.8750000000001812,\n",
       "  -0.47499999999978115,\n",
       "  -0.6000000000006,\n",
       "  -0.6499999999998174,\n",
       "  -0.5750000000004363],\n",
       " [-0.3249999999754838,\n",
       "  -0.37499999997581135,\n",
       "  -0.3499999999245773,\n",
       "  -0.37499999997581135,\n",
       "  -0.4249999999750287,\n",
       "  -0.5749999999749011,\n",
       "  -0.8750000000001812,\n",
       "  -0.47499999999978115,\n",
       "  -0.6000000000006,\n",
       "  -0.6499999999998174,\n",
       "  -0.5750000000004363],\n",
       " [-0.3249999999754838,\n",
       "  -0.37499999997581135,\n",
       "  -0.3499999999245773,\n",
       "  -0.37499999997581135,\n",
       "  -0.4249999999750287,\n",
       "  -0.5749999999749011,\n",
       "  -0.8750000000001812,\n",
       "  -0.47499999999978115,\n",
       "  -0.6000000000006,\n",
       "  -0.6499999999998174,\n",
       "  -0.5750000000004363],\n",
       " [-0.3249999999754838,\n",
       "  -0.37499999997581135,\n",
       "  -0.274999999974046,\n",
       "  -0.37499999997581135,\n",
       "  -0.29999999994867466,\n",
       "  -0.29999999997532,\n",
       "  -0.1250000000008189,\n",
       "  -0.27500000000069136,\n",
       "  -0.3249999999999087,\n",
       "  -0.17500000000003624,\n",
       "  -0.12499999999970868],\n",
       " [-0.3249999999754838,\n",
       "  -0.37499999997581135,\n",
       "  -0.274999999974046,\n",
       "  -0.37499999997581135,\n",
       "  -0.29999999994867466,\n",
       "  -0.29999999997532,\n",
       "  -0.1250000000008189,\n",
       "  -0.27500000000069136,\n",
       "  -0.3249999999999087,\n",
       "  -0.17500000000003624,\n",
       "  -0.12499999999970868],\n",
       " [-0.3249999999754838,\n",
       "  -0.37499999997581135,\n",
       "  -0.274999999974046,\n",
       "  -0.37499999997581135,\n",
       "  -0.29999999994867466,\n",
       "  -0.29999999997532,\n",
       "  -0.1250000000008189,\n",
       "  -0.27500000000069136,\n",
       "  -0.3249999999999087,\n",
       "  -0.17500000000003624,\n",
       "  -0.12499999999970868],\n",
       " [-0.3249999999754838,\n",
       "  -0.37499999997581135,\n",
       "  -0.274999999974046,\n",
       "  -0.37499999997581135,\n",
       "  -0.29999999994867466,\n",
       "  -0.29999999997532,\n",
       "  -0.1250000000008189,\n",
       "  -0.27500000000069136,\n",
       "  -0.3249999999999087,\n",
       "  -0.17500000000003624,\n",
       "  -0.12499999999970868]]"
      ]
     },
     "execution_count": 125,
     "metadata": {},
     "output_type": "execute_result"
    }
   ],
   "source": [
    "table"
   ]
  },
  {
   "cell_type": "code",
   "execution_count": 129,
   "metadata": {},
   "outputs": [
    {
     "data": {
      "text/html": [
       "<div>\n",
       "<style scoped>\n",
       "    .dataframe tbody tr th:only-of-type {\n",
       "        vertical-align: middle;\n",
       "    }\n",
       "\n",
       "    .dataframe tbody tr th {\n",
       "        vertical-align: top;\n",
       "    }\n",
       "\n",
       "    .dataframe thead th {\n",
       "        text-align: right;\n",
       "    }\n",
       "</style>\n",
       "<table border=\"1\" class=\"dataframe\">\n",
       "  <thead>\n",
       "    <tr style=\"text-align: right;\">\n",
       "      <th></th>\n",
       "      <th>5</th>\n",
       "      <th>6</th>\n",
       "      <th>7</th>\n",
       "      <th>8</th>\n",
       "      <th>9</th>\n",
       "      <th>10</th>\n",
       "      <th>11</th>\n",
       "      <th>12</th>\n",
       "      <th>13</th>\n",
       "      <th>14</th>\n",
       "      <th>15</th>\n",
       "    </tr>\n",
       "  </thead>\n",
       "  <tbody>\n",
       "    <tr>\n",
       "      <td>0</td>\n",
       "      <td>-0.200</td>\n",
       "      <td>-0.200</td>\n",
       "      <td>-0.200</td>\n",
       "      <td>-0.200</td>\n",
       "      <td>-0.200</td>\n",
       "      <td>-0.200</td>\n",
       "      <td>-0.200</td>\n",
       "      <td>-0.200</td>\n",
       "      <td>-0.200</td>\n",
       "      <td>-0.200</td>\n",
       "      <td>-0.200</td>\n",
       "    </tr>\n",
       "    <tr>\n",
       "      <td>1</td>\n",
       "      <td>-0.600</td>\n",
       "      <td>-0.600</td>\n",
       "      <td>-0.800</td>\n",
       "      <td>-0.825</td>\n",
       "      <td>-0.850</td>\n",
       "      <td>-0.850</td>\n",
       "      <td>-0.850</td>\n",
       "      <td>-0.850</td>\n",
       "      <td>-0.850</td>\n",
       "      <td>-0.850</td>\n",
       "      <td>-0.850</td>\n",
       "    </tr>\n",
       "    <tr>\n",
       "      <td>2</td>\n",
       "      <td>-0.425</td>\n",
       "      <td>-0.475</td>\n",
       "      <td>-0.675</td>\n",
       "      <td>-1.000</td>\n",
       "      <td>-1.050</td>\n",
       "      <td>-1.050</td>\n",
       "      <td>-1.050</td>\n",
       "      <td>-1.050</td>\n",
       "      <td>-1.050</td>\n",
       "      <td>-1.050</td>\n",
       "      <td>-1.050</td>\n",
       "    </tr>\n",
       "    <tr>\n",
       "      <td>3</td>\n",
       "      <td>-0.325</td>\n",
       "      <td>-0.375</td>\n",
       "      <td>-0.500</td>\n",
       "      <td>-0.500</td>\n",
       "      <td>-0.750</td>\n",
       "      <td>-1.050</td>\n",
       "      <td>-1.075</td>\n",
       "      <td>-1.075</td>\n",
       "      <td>-1.050</td>\n",
       "      <td>-1.050</td>\n",
       "      <td>-1.075</td>\n",
       "    </tr>\n",
       "    <tr>\n",
       "      <td>4</td>\n",
       "      <td>-0.325</td>\n",
       "      <td>-0.375</td>\n",
       "      <td>-0.350</td>\n",
       "      <td>-0.375</td>\n",
       "      <td>-0.425</td>\n",
       "      <td>-0.575</td>\n",
       "      <td>-0.875</td>\n",
       "      <td>-0.475</td>\n",
       "      <td>-0.600</td>\n",
       "      <td>-0.650</td>\n",
       "      <td>-0.575</td>\n",
       "    </tr>\n",
       "    <tr>\n",
       "      <td>5</td>\n",
       "      <td>-0.325</td>\n",
       "      <td>-0.375</td>\n",
       "      <td>-0.350</td>\n",
       "      <td>-0.375</td>\n",
       "      <td>-0.425</td>\n",
       "      <td>-0.575</td>\n",
       "      <td>-0.875</td>\n",
       "      <td>-0.475</td>\n",
       "      <td>-0.600</td>\n",
       "      <td>-0.650</td>\n",
       "      <td>-0.575</td>\n",
       "    </tr>\n",
       "    <tr>\n",
       "      <td>6</td>\n",
       "      <td>-0.325</td>\n",
       "      <td>-0.375</td>\n",
       "      <td>-0.350</td>\n",
       "      <td>-0.375</td>\n",
       "      <td>-0.425</td>\n",
       "      <td>-0.575</td>\n",
       "      <td>-0.875</td>\n",
       "      <td>-0.475</td>\n",
       "      <td>-0.600</td>\n",
       "      <td>-0.650</td>\n",
       "      <td>-0.575</td>\n",
       "    </tr>\n",
       "    <tr>\n",
       "      <td>7</td>\n",
       "      <td>-0.325</td>\n",
       "      <td>-0.375</td>\n",
       "      <td>-0.275</td>\n",
       "      <td>-0.375</td>\n",
       "      <td>-0.300</td>\n",
       "      <td>-0.300</td>\n",
       "      <td>-0.125</td>\n",
       "      <td>-0.275</td>\n",
       "      <td>-0.325</td>\n",
       "      <td>-0.175</td>\n",
       "      <td>-0.125</td>\n",
       "    </tr>\n",
       "    <tr>\n",
       "      <td>8</td>\n",
       "      <td>-0.325</td>\n",
       "      <td>-0.375</td>\n",
       "      <td>-0.275</td>\n",
       "      <td>-0.375</td>\n",
       "      <td>-0.300</td>\n",
       "      <td>-0.300</td>\n",
       "      <td>-0.125</td>\n",
       "      <td>-0.275</td>\n",
       "      <td>-0.325</td>\n",
       "      <td>-0.175</td>\n",
       "      <td>-0.125</td>\n",
       "    </tr>\n",
       "    <tr>\n",
       "      <td>9</td>\n",
       "      <td>-0.325</td>\n",
       "      <td>-0.375</td>\n",
       "      <td>-0.275</td>\n",
       "      <td>-0.375</td>\n",
       "      <td>-0.300</td>\n",
       "      <td>-0.300</td>\n",
       "      <td>-0.125</td>\n",
       "      <td>-0.275</td>\n",
       "      <td>-0.325</td>\n",
       "      <td>-0.175</td>\n",
       "      <td>-0.125</td>\n",
       "    </tr>\n",
       "    <tr>\n",
       "      <td>10</td>\n",
       "      <td>-0.325</td>\n",
       "      <td>-0.375</td>\n",
       "      <td>-0.275</td>\n",
       "      <td>-0.375</td>\n",
       "      <td>-0.300</td>\n",
       "      <td>-0.300</td>\n",
       "      <td>-0.125</td>\n",
       "      <td>-0.275</td>\n",
       "      <td>-0.325</td>\n",
       "      <td>-0.175</td>\n",
       "      <td>-0.125</td>\n",
       "    </tr>\n",
       "  </tbody>\n",
       "</table>\n",
       "</div>"
      ],
      "text/plain": [
       "       5      6      7      8      9      10     11     12     13     14  \\\n",
       "0  -0.200 -0.200 -0.200 -0.200 -0.200 -0.200 -0.200 -0.200 -0.200 -0.200   \n",
       "1  -0.600 -0.600 -0.800 -0.825 -0.850 -0.850 -0.850 -0.850 -0.850 -0.850   \n",
       "2  -0.425 -0.475 -0.675 -1.000 -1.050 -1.050 -1.050 -1.050 -1.050 -1.050   \n",
       "3  -0.325 -0.375 -0.500 -0.500 -0.750 -1.050 -1.075 -1.075 -1.050 -1.050   \n",
       "4  -0.325 -0.375 -0.350 -0.375 -0.425 -0.575 -0.875 -0.475 -0.600 -0.650   \n",
       "5  -0.325 -0.375 -0.350 -0.375 -0.425 -0.575 -0.875 -0.475 -0.600 -0.650   \n",
       "6  -0.325 -0.375 -0.350 -0.375 -0.425 -0.575 -0.875 -0.475 -0.600 -0.650   \n",
       "7  -0.325 -0.375 -0.275 -0.375 -0.300 -0.300 -0.125 -0.275 -0.325 -0.175   \n",
       "8  -0.325 -0.375 -0.275 -0.375 -0.300 -0.300 -0.125 -0.275 -0.325 -0.175   \n",
       "9  -0.325 -0.375 -0.275 -0.375 -0.300 -0.300 -0.125 -0.275 -0.325 -0.175   \n",
       "10 -0.325 -0.375 -0.275 -0.375 -0.300 -0.300 -0.125 -0.275 -0.325 -0.175   \n",
       "\n",
       "       15  \n",
       "0  -0.200  \n",
       "1  -0.850  \n",
       "2  -1.050  \n",
       "3  -1.075  \n",
       "4  -0.575  \n",
       "5  -0.575  \n",
       "6  -0.575  \n",
       "7  -0.125  \n",
       "8  -0.125  \n",
       "9  -0.125  \n",
       "10 -0.125  "
      ]
     },
     "execution_count": 129,
     "metadata": {},
     "output_type": "execute_result"
    }
   ],
   "source": [
    "df = pd.DataFrame(table,columns = tte_list)\n",
    "df"
   ]
  },
  {
   "cell_type": "code",
   "execution_count": 86,
   "metadata": {},
   "outputs": [
    {
     "data": {
      "text/plain": [
       "[-0.20000000000131024,\n",
       " -0.8500000000000174,\n",
       " -1.0500000000002174,\n",
       " -1.0499999999991072,\n",
       " -0.5749999999749011,\n",
       " -0.5749999999749011,\n",
       " -0.5749999999749011,\n",
       " -0.29999999997532,\n",
       " -0.29999999997532,\n",
       " -0.29999999997532,\n",
       " -0.29999999997532]"
      ]
     },
     "execution_count": 86,
     "metadata": {},
     "output_type": "execute_result"
    }
   ],
   "source": [
    "change_st = []\n",
    "for i in range(11):\n",
    "    pnl = OMMSide(sl_list[i],10)\n",
    "    change_st.append(pnl)\n",
    "change_st"
   ]
  },
  {
   "cell_type": "code",
   "execution_count": 87,
   "metadata": {},
   "outputs": [
    {
     "data": {
      "text/plain": [
       "<matplotlib.axes._subplots.AxesSubplot at 0x1198be0f0>"
      ]
     },
     "execution_count": 87,
     "metadata": {},
     "output_type": "execute_result"
    },
    {
     "data": {
      "image/png": "[encoded data removed]",
      "text/plain": [
       "<Figure size 576x396 with 1 Axes>"
      ]
     },
     "metadata": {
      "needs_background": "light"
     },
     "output_type": "display_data"
    }
   ],
   "source": [
    "change_st_df = pd.DataFrame(change_st,index = sl_list)\n",
    "change_st_df.plot.bar()"
   ]
  },
  {
   "cell_type": "code",
   "execution_count": 93,
   "metadata": {},
   "outputs": [
    {
     "data": {
      "text/plain": [
       "<matplotlib.axes._subplots.AxesSubplot at 0x118009eb8>"
      ]
     },
     "execution_count": 93,
     "metadata": {},
     "output_type": "execute_result"
    },
    {
     "data": {
      "image/png": "[encoded data removed]",
      "text/plain": [
       "<Figure size 576x396 with 1 Axes>"
      ]
     },
     "metadata": {
      "needs_background": "light"
     },
     "output_type": "display_data"
    }
   ],
   "source": [
    "change_st_Mid = []\n",
    "for i in range(11):\n",
    "    pnl = OMMMid(sl_list[i],10)\n",
    "    change_st_Mid.append(pnl)\n",
    "change_st_Mid_df = pd.DataFrame(change_st_Mid,index = sl_list)\n",
    "change_st_Mid_df.plot.bar()"
   ]
  },
  {
   "cell_type": "code",
   "execution_count": 92,
   "metadata": {},
   "outputs": [
    {
     "data": {
      "text/plain": [
       "[-0.20000000000131024]"
      ]
     },
     "execution_count": 92,
     "metadata": {},
     "output_type": "execute_result"
    }
   ],
   "source": [
    "change_st_Mid"
   ]
  },
  {
   "cell_type": "code",
   "execution_count": 110,
   "metadata": {},
   "outputs": [
    {
     "data": {
      "text/plain": [
       "<matplotlib.axes._subplots.AxesSubplot at 0x119287fd0>"
      ]
     },
     "execution_count": 110,
     "metadata": {},
     "output_type": "execute_result"
    },
    {
     "data": {
      "image/png": "[encoded data removed]",
      "text/plain": [
       "<Figure size 576x396 with 1 Axes>"
      ]
     },
     "metadata": {
      "needs_background": "light"
     },
     "output_type": "display_data"
    }
   ],
   "source": [
    "change_tte_side = []\n",
    "for i in range(11):\n",
    "    pnl = OMMSide(0.0002,tte_list[i])\n",
    "    change_tte_side.append(pnl)\n",
    "change_tte_side_df = pd.DataFrame(change_tte_side,index = tte_list)\n",
    "change_tte_side_df.plot.bar()"
   ]
  },
  {
   "cell_type": "code",
   "execution_count": 113,
   "metadata": {
    "scrolled": true
   },
   "outputs": [
    {
     "data": {
      "text/plain": [
       "<matplotlib.axes._subplots.AxesSubplot at 0x11fc63978>"
      ]
     },
     "execution_count": 113,
     "metadata": {},
     "output_type": "execute_result"
    },
    {
     "data": {
      "image/png": "[encoded data removed]",
      "text/plain": [
       "<Figure size 576x396 with 1 Axes>"
      ]
     },
     "metadata": {
      "needs_background": "light"
     },
     "output_type": "display_data"
    }
   ],
   "source": [
    "change_tte_mid = []\n",
    "for i in range(11):\n",
    "    pnl = OMMMid(0.0002,tte_list[i])\n",
    "    change_tte_mid.append(pnl)\n",
    "change_tte_mid_df = pd.DataFrame(change_tte_mid,index = tte_list)\n",
    "change_tte_mid_df.plot.bar()"
   ]
  },
  {
   "cell_type": "code",
   "execution_count": null,
   "metadata": {},
   "outputs": [],
   "source": []
  }
 ],
 "metadata": {
  "kernelspec": {
   "display_name": "Python 3",
   "language": "python",
   "name": "python3"
  },
  "language_info": {
   "codemirror_mode": {
    "name": "ipython",
    "version": 3
   },
   "file_extension": ".py",
   "mimetype": "text/x-python",
   "name": "python",
   "nbconvert_exporter": "python",
   "pygments_lexer": "ipython3",
   "version": "3.7.2"
  }
 },
 "nbformat": 4,
 "nbformat_minor": 2
}
